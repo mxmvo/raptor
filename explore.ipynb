{
 "cells": [
  {
   "cell_type": "code",
   "execution_count": 5,
   "source": [
    "using DataFrames\n",
    "using DataFramesMeta\n",
    "using CSV\n",
    "using Dates\n",
    "using BenchmarkTools\n",
    "using Plots"
   ],
   "outputs": [],
   "metadata": {}
  },
  {
   "cell_type": "code",
   "execution_count": 2,
   "source": [
    "routes = CSV.read(\"gtfs-openov-nl/routes.txt\", DataFrame)\n",
    "trips = CSV.read(\"gtfs-openov-nl/trips.txt\", DataFrame)\n",
    "stops = CSV.read(\"gtfs-openov-nl/stops.txt\", DataFrame)\n",
    "stop_times = CSV.read(\"gtfs-openov-nl/stop_times.txt\", DataFrame)\n",
    "shapes = CSV.read(\"gtfs-openov-nl/shapes.txt\", DataFrame);"
   ],
   "outputs": [],
   "metadata": {}
  },
  {
   "cell_type": "code",
   "execution_count": 3,
   "source": [
    "names.([routes, trips, stops, stop_times])"
   ],
   "outputs": [
    {
     "output_type": "execute_result",
     "data": {
      "text/plain": [
       "4-element Vector{Vector{String}}:\n",
       " [\"route_id\", \"agency_id\", \"route_short_name\", \"route_long_name\", \"route_desc\", \"route_type\", \"route_color\", \"route_text_color\", \"route_url\"]\n",
       " [\"route_id\", \"service_id\", \"trip_id\", \"realtime_trip_id\", \"trip_headsign\", \"trip_short_name\", \"trip_long_name\", \"direction_id\", \"block_id\", \"shape_id\", \"wheelchair_accessible\", \"bikes_allowed\"]\n",
       " [\"stop_id\", \"stop_code\", \"stop_name\", \"stop_lat\", \"stop_lon\", \"location_type\", \"parent_station\", \"stop_timezone\", \"wheelchair_boarding\", \"platform_code\"]\n",
       " [\"trip_id\", \"stop_sequence\", \"stop_id\", \"stop_headsign\", \"arrival_time\", \"departure_time\", \"pickup_type\", \"drop_off_type\", \"timepoint\", \"shape_dist_traveled\", \"fare_units_traveled\"]"
      ]
     },
     "metadata": {},
     "execution_count": 3
    }
   ],
   "metadata": {}
  },
  {
   "cell_type": "markdown",
   "source": [
    "Given a unique stop_id can we find the routes that are on them."
   ],
   "metadata": {}
  },
  {
   "cell_type": "code",
   "execution_count": 4,
   "source": [
    "time_format = dateformat\"HH:MM:SS\"\n",
    "t₀ = Time(\"12:45:00\", time_format)\n",
    "t₁ = Time(\"12:47:00\", time_format)\n",
    "\n",
    "function parse_time(t)\n",
    "    h,m,s = parse.(Int, split(t,\":\"))\n",
    "    return h*3600+m*60+s\n",
    "end\n",
    "\n",
    "transform!(stop_times, :arrival_time => (t -> parse_time.(t)) => :arrival_s);\n",
    "transform!(stop_times, :departure_time => (t -> parse_time.(t)) => :departure_s);"
   ],
   "outputs": [],
   "metadata": {}
  },
  {
   "cell_type": "code",
   "execution_count": 96,
   "source": [
    "s_id = 9443\n",
    "a_time = \"12:45:00\"\n",
    "\n",
    "p_time = parse_time(a_time)\n",
    "stop_times[isequal.(stop_times.stop_id, s_id) .& (stop_times.time_seconds .> p_time), : ];"
   ],
   "outputs": [],
   "metadata": {}
  },
  {
   "cell_type": "code",
   "execution_count": 89,
   "source": [
    "start_id = 9443\n",
    "stop_id = 14874\n",
    "start_time = \"09:00:00\""
   ],
   "outputs": [
    {
     "output_type": "execute_result",
     "data": {
      "text/plain": [
       "14874"
      ]
     },
     "metadata": {},
     "execution_count": 89
    }
   ],
   "metadata": {}
  },
  {
   "cell_type": "markdown",
   "source": [
    "- Some kind of plotting off lines.\n",
    "- Where can be go?\n",
    "    - Make a dataframe filled with infinity and a start point\n",
    "    - For all non infinity id's od\n",
    "        - Find all trajectories that lie further on the trip\n",
    "        - Update arrival times.\n",
    "- Make more efficient\n",
    "    - Only newly added points\n",
    "    - Don't update if it takes to long\n",
    "    - More efficient Look ups."
   ],
   "metadata": {}
  },
  {
   "cell_type": "code",
   "execution_count": null,
   "source": [],
   "outputs": [],
   "metadata": {}
  }
 ],
 "metadata": {
  "orig_nbformat": 4,
  "language_info": {
   "file_extension": ".jl",
   "name": "julia",
   "mimetype": "application/julia",
   "version": "1.6.0"
  },
  "kernelspec": {
   "name": "julia-1.6",
   "display_name": "Julia 1.6.0",
   "language": "julia"
  }
 },
 "nbformat": 4,
 "nbformat_minor": 2
}